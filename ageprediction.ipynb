{
 "cells": [
  {
   "cell_type": "code",
   "execution_count": 1,
   "metadata": {},
   "outputs": [
    {
     "name": "stderr",
     "output_type": "stream",
     "text": [
      "Using TensorFlow backend.\n"
     ]
    }
   ],
   "source": [
    "%matplotlib inline\n",
    "\n",
    "import pandas as pd\n",
    "import numpy as np\n",
    "from glob import glob\n",
    "import matplotlib.pyplot as plt\n",
    "\n",
    "from keras.models import Sequential\n",
    "from keras.preprocessing import image\n",
    "from keras.layers import Dense, InputLayer, Conv2D, MaxPool2D, Flatten\n",
    "    \n",
    "from sklearn.model_selection import train_test_split"
   ]
  },
  {
   "cell_type": "code",
   "execution_count": 2,
   "metadata": {},
   "outputs": [],
   "source": [
    "# randomness consistancy\n",
    "seed = 101\n",
    "rng = np.random.RandomState(seed)"
   ]
  },
  {
   "cell_type": "code",
   "execution_count": 3,
   "metadata": {},
   "outputs": [],
   "source": [
    "data = pd.read_csv(\"train.csv\")"
   ]
  },
  {
   "cell_type": "code",
   "execution_count": 4,
   "metadata": {},
   "outputs": [
    {
     "data": {
      "text/html": [
       "<div>\n",
       "<style scoped>\n",
       "    .dataframe tbody tr th:only-of-type {\n",
       "        vertical-align: middle;\n",
       "    }\n",
       "\n",
       "    .dataframe tbody tr th {\n",
       "        vertical-align: top;\n",
       "    }\n",
       "\n",
       "    .dataframe thead th {\n",
       "        text-align: right;\n",
       "    }\n",
       "</style>\n",
       "<table border=\"1\" class=\"dataframe\">\n",
       "  <thead>\n",
       "    <tr style=\"text-align: right;\">\n",
       "      <th></th>\n",
       "      <th>image_names</th>\n",
       "      <th>age_labels</th>\n",
       "    </tr>\n",
       "  </thead>\n",
       "  <tbody>\n",
       "    <tr>\n",
       "      <th>0</th>\n",
       "      <td>16620.jpg</td>\n",
       "      <td>50</td>\n",
       "    </tr>\n",
       "    <tr>\n",
       "      <th>1</th>\n",
       "      <td>9507.jpg</td>\n",
       "      <td>36</td>\n",
       "    </tr>\n",
       "    <tr>\n",
       "      <th>2</th>\n",
       "      <td>16666.jpg</td>\n",
       "      <td>43</td>\n",
       "    </tr>\n",
       "    <tr>\n",
       "      <th>3</th>\n",
       "      <td>2536.jpg</td>\n",
       "      <td>49</td>\n",
       "    </tr>\n",
       "    <tr>\n",
       "      <th>4</th>\n",
       "      <td>9189.jpg</td>\n",
       "      <td>26</td>\n",
       "    </tr>\n",
       "  </tbody>\n",
       "</table>\n",
       "</div>"
      ],
      "text/plain": [
       "  image_names  age_labels\n",
       "0   16620.jpg          50\n",
       "1    9507.jpg          36\n",
       "2   16666.jpg          43\n",
       "3    2536.jpg          49\n",
       "4    9189.jpg          26"
      ]
     },
     "execution_count": 4,
     "metadata": {},
     "output_type": "execute_result"
    }
   ],
   "source": [
    "data.head()"
   ]
  },
  {
   "cell_type": "code",
   "execution_count": 5,
   "metadata": {},
   "outputs": [],
   "source": [
    "from keras.preprocessing.image import load_img, img_to_array, array_to_img"
   ]
  },
  {
   "cell_type": "code",
   "execution_count": 6,
   "metadata": {},
   "outputs": [],
   "source": [
    "# load images\n",
    "X = list()\n",
    "for i in data.image_names:\n",
    "    #img = load_img(\"images/\"+i,target_size=(224,224,3))\n",
    "    img = load_img(\"images/\"+i,target_size=(64,64,3))\n",
    "    #img = load_img(\"images/\"+i,target_size=(128,128,3))\n",
    "    img = img_to_array(img)\n",
    "    X.append( img)"
   ]
  },
  {
   "cell_type": "code",
   "execution_count": 7,
   "metadata": {},
   "outputs": [
    {
     "data": {
      "text/plain": [
       "(13911, 64, 64, 3)"
      ]
     },
     "execution_count": 7,
     "metadata": {},
     "output_type": "execute_result"
    }
   ],
   "source": [
    "#Create an array of Images\n",
    "X= np.array(X)\n",
    "X.shape"
   ]
  },
  {
   "cell_type": "markdown",
   "metadata": {},
   "source": [
    "#### Preprocess the image\n",
    "scale the pixels of images to 0 to 1 range"
   ]
  },
  {
   "cell_type": "code",
   "execution_count": 8,
   "metadata": {},
   "outputs": [],
   "source": [
    "X = X/X.max()"
   ]
  },
  {
   "cell_type": "code",
   "execution_count": 9,
   "metadata": {},
   "outputs": [
    {
     "data": {
      "text/plain": [
       "(13911,)"
      ]
     },
     "execution_count": 9,
     "metadata": {},
     "output_type": "execute_result"
    }
   ],
   "source": [
    "y = data.age_labels\n",
    "y.shape"
   ]
  },
  {
   "cell_type": "markdown",
   "metadata": {},
   "source": [
    "#### train validation split"
   ]
  },
  {
   "cell_type": "code",
   "execution_count": 10,
   "metadata": {},
   "outputs": [],
   "source": [
    "from sklearn.model_selection import train_test_split"
   ]
  },
  {
   "cell_type": "code",
   "execution_count": 11,
   "metadata": {},
   "outputs": [],
   "source": [
    "x_train,x_valid,y_train,y_valid = train_test_split(X,y,test_size=0.3,random_state=seed)"
   ]
  },
  {
   "cell_type": "markdown",
   "metadata": {},
   "source": [
    "#### Image Augmentations"
   ]
  },
  {
   "cell_type": "code",
   "execution_count": 12,
   "metadata": {},
   "outputs": [],
   "source": [
    "from keras.preprocessing.image import ImageDataGenerator"
   ]
  },
  {
   "cell_type": "code",
   "execution_count": 13,
   "metadata": {},
   "outputs": [],
   "source": [
    "image_augments = ImageDataGenerator(\n",
    "                    width_shift_range = 0.5,                \n",
    "                    height_shift_range=0.5,                    \n",
    "                    shear_range=0.5, \n",
    "                    zoom_range=0.5\n",
    "                 )"
   ]
  },
  {
   "cell_type": "markdown",
   "metadata": {},
   "source": [
    "#### Model the network"
   ]
  },
  {
   "cell_type": "code",
   "execution_count": 14,
   "metadata": {},
   "outputs": [],
   "source": [
    "from keras.layers import InputLayer, Dense, Convolution2D, MaxPooling2D"
   ]
  },
  {
   "cell_type": "code",
   "execution_count": 23,
   "metadata": {},
   "outputs": [],
   "source": [
    "from keras.layers import BatchNormalization, GlobalAveragePooling2D, Dropout"
   ]
  },
  {
   "cell_type": "code",
   "execution_count": 24,
   "metadata": {},
   "outputs": [],
   "source": [
    "model = Sequential()\n",
    "#model.add(InputLayer(input_shape=(224,224,3)))\n",
    "#model.add(InputLayer(input_shape=(64,64,3)))\n",
    "model.add(InputLayer(input_shape=(64,64,3)))\n",
    "\n",
    "model.add(Conv2D(filters = 32, kernel_size = (1,1), activation='relu', padding='same'))\n",
    "model.add(Conv2D(filters = 32, kernel_size = (5,5), activation='relu', padding='same'))\n",
    "#model.add(Conv2D(filters = 32, kernel_size = (5,5), activation='relu', padding='same'))\n",
    "model.add(MaxPooling2D(pool_size=2))\n",
    "model.add(BatchNormalization())\n",
    "#model.add(Dropout(0.5))\n",
    "#model.add(Dropout(0.25))\n",
    "model.add(Dropout(0.3))\n",
    "\n",
    "model.add(Conv2D(filters = 64, kernel_size = (3,3), activation='relu', padding='same'))\n",
    "model.add(Conv2D(filters = 64, kernel_size = (3,3), activation='relu', padding='same'))\n",
    "#model.add(Conv2D(filters = 64, kernel_size = (3,3), activation='relu', padding='same'))\n",
    "model.add(MaxPooling2D(pool_size=2))\n",
    "model.add(BatchNormalization())\n",
    "#model.add(Dropout(0.5))\n",
    "model.add(Dropout(0.3))\n",
    "\n",
    "model.add(Conv2D(filters = 128, kernel_size = (3,3), activation='relu', padding='same'))\n",
    "model.add(Conv2D(filters = 128, kernel_size = (3,3), activation='relu', padding='same'))\n",
    "#model.add(Conv2D(filters = 128, kernel_size = (3,3), activation='relu', padding='same'))\n",
    "model.add(MaxPooling2D(pool_size=2))\n",
    "model.add(BatchNormalization())\n",
    "model.add(Dropout(0.3))\n",
    "'''\n",
    "model.add(Conv2D(filters = 256, kernel_size = (3,3), activation='relu', padding='same'))\n",
    "model.add(Conv2D(filters = 256, kernel_size = (3,3), activation='relu', padding='same'))\n",
    "#model.add(Conv2D(filters = 256, kernel_size = (3,3), activation='relu', padding='same'))\n",
    "model.add(MaxPooling2D(pool_size=2))\n",
    "model.add(BatchNormalization())\n",
    "#model.add(Dropout(0.5))\n",
    "#model.add(Dropout(0.25))\n",
    "model.add(Dropout(0.3))\n",
    "\n",
    "model.add(Conv2D(filters = 256, kernel_size = (3,3), activation='relu', padding='same'))\n",
    "model.add(Conv2D(filters = 256, kernel_size = (3,3), activation='relu', padding='same'))\n",
    "model.add(MaxPooling2D(pool_size=2))\n",
    "model.add(BatchNormalization())\n",
    "model.add(Dropout(0.1))\n",
    "'''\n",
    "model.add(Conv2D(filters = 512, kernel_size = (3,3), activation='relu', padding='same'))\n",
    "model.add(Conv2D(filters = 512, kernel_size = (3,3), activation='relu', padding='same'))\n",
    "model.add(MaxPooling2D(pool_size=2))\n",
    "model.add(BatchNormalization())\n",
    "#model.add(Dropout(0.5))\n",
    "#model.add(Dropout(0.2))\n",
    "model.add(Dropout(0.3))\n",
    "\n",
    "model.add(Conv2D(filters = 1024, kernel_size = (2,2), activation='relu', padding='same'))\n",
    "model.add(Conv2D(filters = 1024, kernel_size = (2,2), activation='relu', padding='same'))\n",
    "#model.add(MaxPooling2D(pool_size=2, padding='same'))\n",
    "model.add(MaxPooling2D(pool_size=2))\n",
    "model.add(BatchNormalization())\n",
    "model.add(Dropout(0.5))\n",
    "#model.add(Dropout(0.25))\n",
    "model.add(GlobalAveragePooling2D())\n",
    "\n",
    "model.add(Dense(units = 2048, activation ='relu'))\n",
    "model.add(BatchNormalization())\n",
    "model.add(Dropout(0.3))\n",
    "#model.add(Dropout(0.1))\n",
    "\n",
    "model.add(Dense(units=1, activation = 'linear'))\n",
    "\n",
    "\n",
    "model.compile(loss='mean_squared_error', optimizer=\"adam\")"
   ]
  },
  {
   "cell_type": "code",
   "execution_count": 25,
   "metadata": {},
   "outputs": [
    {
     "name": "stdout",
     "output_type": "stream",
     "text": [
      "_________________________________________________________________\n",
      "Layer (type)                 Output Shape              Param #   \n",
      "=================================================================\n",
      "conv2d_29 (Conv2D)           (None, 64, 64, 32)        128       \n",
      "_________________________________________________________________\n",
      "conv2d_30 (Conv2D)           (None, 64, 64, 32)        25632     \n",
      "_________________________________________________________________\n",
      "max_pooling2d_15 (MaxPooling (None, 32, 32, 32)        0         \n",
      "_________________________________________________________________\n",
      "batch_normalization_15 (Batc (None, 32, 32, 32)        128       \n",
      "_________________________________________________________________\n",
      "dropout_15 (Dropout)         (None, 32, 32, 32)        0         \n",
      "_________________________________________________________________\n",
      "conv2d_31 (Conv2D)           (None, 32, 32, 64)        18496     \n",
      "_________________________________________________________________\n",
      "conv2d_32 (Conv2D)           (None, 32, 32, 64)        36928     \n",
      "_________________________________________________________________\n",
      "max_pooling2d_16 (MaxPooling (None, 16, 16, 64)        0         \n",
      "_________________________________________________________________\n",
      "batch_normalization_16 (Batc (None, 16, 16, 64)        256       \n",
      "_________________________________________________________________\n",
      "dropout_16 (Dropout)         (None, 16, 16, 64)        0         \n",
      "_________________________________________________________________\n",
      "conv2d_33 (Conv2D)           (None, 16, 16, 128)       73856     \n",
      "_________________________________________________________________\n",
      "conv2d_34 (Conv2D)           (None, 16, 16, 128)       147584    \n",
      "_________________________________________________________________\n",
      "max_pooling2d_17 (MaxPooling (None, 8, 8, 128)         0         \n",
      "_________________________________________________________________\n",
      "batch_normalization_17 (Batc (None, 8, 8, 128)         512       \n",
      "_________________________________________________________________\n",
      "dropout_17 (Dropout)         (None, 8, 8, 128)         0         \n",
      "_________________________________________________________________\n",
      "conv2d_35 (Conv2D)           (None, 8, 8, 512)         590336    \n",
      "_________________________________________________________________\n",
      "conv2d_36 (Conv2D)           (None, 8, 8, 512)         2359808   \n",
      "_________________________________________________________________\n",
      "max_pooling2d_18 (MaxPooling (None, 4, 4, 512)         0         \n",
      "_________________________________________________________________\n",
      "batch_normalization_18 (Batc (None, 4, 4, 512)         2048      \n",
      "_________________________________________________________________\n",
      "dropout_18 (Dropout)         (None, 4, 4, 512)         0         \n",
      "_________________________________________________________________\n",
      "conv2d_37 (Conv2D)           (None, 4, 4, 1024)        2098176   \n",
      "_________________________________________________________________\n",
      "conv2d_38 (Conv2D)           (None, 4, 4, 1024)        4195328   \n",
      "_________________________________________________________________\n",
      "max_pooling2d_19 (MaxPooling (None, 2, 2, 1024)        0         \n",
      "_________________________________________________________________\n",
      "batch_normalization_19 (Batc (None, 2, 2, 1024)        4096      \n",
      "_________________________________________________________________\n",
      "dropout_19 (Dropout)         (None, 2, 2, 1024)        0         \n",
      "_________________________________________________________________\n",
      "global_average_pooling2d_2 ( (None, 1024)              0         \n",
      "_________________________________________________________________\n",
      "dense_3 (Dense)              (None, 2048)              2099200   \n",
      "_________________________________________________________________\n",
      "batch_normalization_20 (Batc (None, 2048)              8192      \n",
      "_________________________________________________________________\n",
      "dropout_20 (Dropout)         (None, 2048)              0         \n",
      "_________________________________________________________________\n",
      "dense_4 (Dense)              (None, 1)                 2049      \n",
      "=================================================================\n",
      "Total params: 11,662,753\n",
      "Trainable params: 11,655,137\n",
      "Non-trainable params: 7,616\n",
      "_________________________________________________________________\n"
     ]
    }
   ],
   "source": [
    "model.summary()"
   ]
  },
  {
   "cell_type": "code",
   "execution_count": 26,
   "metadata": {},
   "outputs": [],
   "source": [
    "from keras.callbacks import  EarlyStopping"
   ]
  },
  {
   "cell_type": "code",
   "execution_count": 27,
   "metadata": {},
   "outputs": [],
   "source": [
    "estop = EarlyStopping(monitor='val_loss', patience=20, verbose=1,mode='min',min_delta=0.001)"
   ]
  },
  {
   "cell_type": "code",
   "execution_count": 28,
   "metadata": {},
   "outputs": [
    {
     "name": "stdout",
     "output_type": "stream",
     "text": [
      "Epoch 1/200\n"
     ]
    },
    {
     "name": "stderr",
     "output_type": "stream",
     "text": [
      "/home/raghuvardhan/anaconda3/envs/ds_common/lib/python3.6/site-packages/keras/engine/training_generator.py:47: UserWarning: Using a generator with `use_multiprocessing=True` and multiple workers may duplicate your data. Please consider using the`keras.utils.Sequence class.\n",
      "  UserWarning('Using a generator with `use_multiprocessing=True`'\n"
     ]
    },
    {
     "name": "stdout",
     "output_type": "stream",
     "text": [
      "76/76 [==============================] - 20s 269ms/step - loss: 1222.4561 - val_loss: 1034.1002\n",
      "Epoch 2/200\n",
      "76/76 [==============================] - 8s 107ms/step - loss: 359.7645 - val_loss: 972.1737\n",
      "Epoch 3/200\n",
      "76/76 [==============================] - 8s 107ms/step - loss: 102.9228 - val_loss: 200.2984\n",
      "Epoch 4/200\n",
      "76/76 [==============================] - 8s 107ms/step - loss: 107.5067 - val_loss: 92.0576\n",
      "Epoch 5/200\n",
      "76/76 [==============================] - 8s 108ms/step - loss: 105.2600 - val_loss: 118.4828\n",
      "Epoch 6/200\n",
      "76/76 [==============================] - 8s 106ms/step - loss: 97.2188 - val_loss: 94.4740\n",
      "Epoch 7/200\n",
      "76/76 [==============================] - 8s 109ms/step - loss: 103.4237 - val_loss: 98.4965\n",
      "Epoch 8/200\n",
      "76/76 [==============================] - 8s 108ms/step - loss: 103.0316 - val_loss: 106.0066\n",
      "Epoch 9/200\n",
      "76/76 [==============================] - 8s 108ms/step - loss: 99.7110 - val_loss: 96.4347\n",
      "Epoch 10/200\n",
      "76/76 [==============================] - 8s 108ms/step - loss: 95.3242 - val_loss: 94.4767\n",
      "Epoch 11/200\n",
      "76/76 [==============================] - 8s 104ms/step - loss: 100.0696 - val_loss: 104.8010\n",
      "Epoch 12/200\n",
      "76/76 [==============================] - 8s 108ms/step - loss: 97.6561 - val_loss: 101.7468\n",
      "Epoch 13/200\n",
      "76/76 [==============================] - 8s 108ms/step - loss: 94.7952 - val_loss: 101.3082\n",
      "Epoch 14/200\n",
      "76/76 [==============================] - 8s 107ms/step - loss: 101.8669 - val_loss: 105.9565\n",
      "Epoch 15/200\n",
      "76/76 [==============================] - 8s 108ms/step - loss: 96.4888 - val_loss: 95.0916\n",
      "Epoch 16/200\n",
      "76/76 [==============================] - 8s 104ms/step - loss: 92.4176 - val_loss: 214.9176\n",
      "Epoch 17/200\n",
      "76/76 [==============================] - 8s 108ms/step - loss: 95.9560 - val_loss: 110.2337\n",
      "Epoch 18/200\n",
      "76/76 [==============================] - 8s 109ms/step - loss: 96.7708 - val_loss: 94.7567\n",
      "Epoch 19/200\n",
      "76/76 [==============================] - 8s 108ms/step - loss: 96.8206 - val_loss: 90.6961\n",
      "Epoch 20/200\n",
      "76/76 [==============================] - 8s 108ms/step - loss: 95.4222 - val_loss: 91.8272\n",
      "Epoch 21/200\n",
      "76/76 [==============================] - 8s 105ms/step - loss: 100.7935 - val_loss: 108.1755\n",
      "Epoch 22/200\n",
      "76/76 [==============================] - 8s 110ms/step - loss: 93.5503 - val_loss: 97.2234\n",
      "Epoch 23/200\n",
      "76/76 [==============================] - 8s 111ms/step - loss: 97.4369 - val_loss: 114.7266\n",
      "Epoch 24/200\n",
      "76/76 [==============================] - 8s 109ms/step - loss: 93.5809 - val_loss: 90.4548\n",
      "Epoch 25/200\n",
      "76/76 [==============================] - 8s 109ms/step - loss: 96.4078 - val_loss: 91.3098\n",
      "Epoch 26/200\n",
      "76/76 [==============================] - 8s 104ms/step - loss: 94.6025 - val_loss: 93.1093\n",
      "Epoch 27/200\n",
      "76/76 [==============================] - 8s 109ms/step - loss: 93.8217 - val_loss: 93.6860\n",
      "Epoch 28/200\n",
      "76/76 [==============================] - 8s 109ms/step - loss: 97.0552 - val_loss: 90.0015\n",
      "Epoch 29/200\n",
      "76/76 [==============================] - 8s 109ms/step - loss: 92.0686 - val_loss: 90.8301\n",
      "Epoch 30/200\n",
      "76/76 [==============================] - 8s 109ms/step - loss: 92.4492 - val_loss: 90.4213\n",
      "Epoch 31/200\n",
      "76/76 [==============================] - 8s 105ms/step - loss: 94.0342 - val_loss: 95.4642\n",
      "Epoch 32/200\n",
      "76/76 [==============================] - 8s 109ms/step - loss: 96.7994 - val_loss: 101.0016\n",
      "Epoch 33/200\n",
      "76/76 [==============================] - 8s 109ms/step - loss: 95.4458 - val_loss: 91.8419\n",
      "Epoch 34/200\n",
      "76/76 [==============================] - 8s 110ms/step - loss: 94.2320 - val_loss: 93.3490\n",
      "Epoch 35/200\n",
      "76/76 [==============================] - 8s 109ms/step - loss: 88.4160 - val_loss: 91.2887\n",
      "Epoch 36/200\n",
      "76/76 [==============================] - 8s 106ms/step - loss: 92.3325 - val_loss: 98.9508\n",
      "Epoch 37/200\n",
      "76/76 [==============================] - 8s 110ms/step - loss: 93.1500 - val_loss: 90.1914\n",
      "Epoch 38/200\n",
      "76/76 [==============================] - 8s 110ms/step - loss: 92.2597 - val_loss: 91.1418\n",
      "Epoch 39/200\n",
      "76/76 [==============================] - 8s 109ms/step - loss: 93.3998 - val_loss: 93.0653\n",
      "Epoch 40/200\n",
      "76/76 [==============================] - 8s 109ms/step - loss: 89.6841 - val_loss: 90.9741\n",
      "Epoch 41/200\n",
      "76/76 [==============================] - 8s 105ms/step - loss: 93.3508 - val_loss: 93.0277\n",
      "Epoch 42/200\n",
      "76/76 [==============================] - 8s 109ms/step - loss: 95.5505 - val_loss: 91.1009\n",
      "Epoch 43/200\n",
      "76/76 [==============================] - 8s 110ms/step - loss: 89.2263 - val_loss: 90.9620\n",
      "Epoch 44/200\n",
      "76/76 [==============================] - 8s 109ms/step - loss: 93.6844 - val_loss: 90.1911\n",
      "Epoch 45/200\n",
      "76/76 [==============================] - 8s 109ms/step - loss: 91.2270 - val_loss: 92.4666\n",
      "Epoch 46/200\n",
      "76/76 [==============================] - 8s 105ms/step - loss: 88.2885 - val_loss: 90.5096\n",
      "Epoch 47/200\n",
      "76/76 [==============================] - 8s 109ms/step - loss: 91.8207 - val_loss: 93.1150\n",
      "Epoch 48/200\n",
      "76/76 [==============================] - 8s 110ms/step - loss: 92.3692 - val_loss: 91.0284\n",
      "Epoch 00048: early stopping\n"
     ]
    }
   ],
   "source": [
    "batch_size=128\n",
    "#batch_size=32\n",
    "#batch_size=16\n",
    "#batch_size=64\n",
    "#batch_size=10\n",
    "epochs=200\n",
    "perf_hist = model.fit_generator(image_augments.flow(x_train, y_train, batch_size=batch_size),epochs=epochs,steps_per_epoch=int(x_train.shape[0]/batch_size), validation_data=(x_valid,y_valid), callbacks=[estop], shuffle=False, workers=5, use_multiprocessing=True)"
   ]
  },
  {
   "cell_type": "code",
   "execution_count": 29,
   "metadata": {},
   "outputs": [],
   "source": [
    "del X"
   ]
  },
  {
   "cell_type": "code",
   "execution_count": 30,
   "metadata": {},
   "outputs": [],
   "source": [
    "#load test data\n",
    "test_data = pd.read_csv(\"test.csv\")"
   ]
  },
  {
   "cell_type": "code",
   "execution_count": 31,
   "metadata": {},
   "outputs": [
    {
     "data": {
      "text/html": [
       "<div>\n",
       "<style scoped>\n",
       "    .dataframe tbody tr th:only-of-type {\n",
       "        vertical-align: middle;\n",
       "    }\n",
       "\n",
       "    .dataframe tbody tr th {\n",
       "        vertical-align: top;\n",
       "    }\n",
       "\n",
       "    .dataframe thead th {\n",
       "        text-align: right;\n",
       "    }\n",
       "</style>\n",
       "<table border=\"1\" class=\"dataframe\">\n",
       "  <thead>\n",
       "    <tr style=\"text-align: right;\">\n",
       "      <th></th>\n",
       "      <th>image_names</th>\n",
       "    </tr>\n",
       "  </thead>\n",
       "  <tbody>\n",
       "    <tr>\n",
       "      <th>0</th>\n",
       "      <td>3950.jpg</td>\n",
       "    </tr>\n",
       "    <tr>\n",
       "      <th>1</th>\n",
       "      <td>1272.jpg</td>\n",
       "    </tr>\n",
       "    <tr>\n",
       "      <th>2</th>\n",
       "      <td>14384.jpg</td>\n",
       "    </tr>\n",
       "    <tr>\n",
       "      <th>3</th>\n",
       "      <td>18501.jpg</td>\n",
       "    </tr>\n",
       "    <tr>\n",
       "      <th>4</th>\n",
       "      <td>3165.jpg</td>\n",
       "    </tr>\n",
       "  </tbody>\n",
       "</table>\n",
       "</div>"
      ],
      "text/plain": [
       "  image_names\n",
       "0    3950.jpg\n",
       "1    1272.jpg\n",
       "2   14384.jpg\n",
       "3   18501.jpg\n",
       "4    3165.jpg"
      ]
     },
     "execution_count": 31,
     "metadata": {},
     "output_type": "execute_result"
    }
   ],
   "source": [
    "test_data.head()"
   ]
  },
  {
   "cell_type": "code",
   "execution_count": 32,
   "metadata": {},
   "outputs": [],
   "source": [
    "test_images = list()\n",
    "for i in test_data.image_names:\n",
    "    #img = load_img(\"images/\"+i,target_size=(224,224,3))\n",
    "    img = load_img(\"images/\"+i,target_size=(64,64,3))\n",
    "    img = img_to_array(img)\n",
    "    test_images.append( img)\n",
    "test_images=np.array(test_images)"
   ]
  },
  {
   "cell_type": "code",
   "execution_count": 33,
   "metadata": {},
   "outputs": [
    {
     "data": {
      "text/plain": [
       "(5962, 64, 64, 3)"
      ]
     },
     "execution_count": 33,
     "metadata": {},
     "output_type": "execute_result"
    }
   ],
   "source": [
    "test_images.shape"
   ]
  },
  {
   "cell_type": "code",
   "execution_count": 34,
   "metadata": {},
   "outputs": [],
   "source": [
    "test_images = test_images/test_images.max()"
   ]
  },
  {
   "cell_type": "code",
   "execution_count": 35,
   "metadata": {},
   "outputs": [],
   "source": [
    "predictions = model.predict(test_images)"
   ]
  },
  {
   "cell_type": "code",
   "execution_count": 36,
   "metadata": {},
   "outputs": [],
   "source": [
    "result = pd.DataFrame(index=None)"
   ]
  },
  {
   "cell_type": "code",
   "execution_count": 37,
   "metadata": {},
   "outputs": [],
   "source": [
    "result['image_names']=test_data['image_names']\n",
    "result['age_labels']=predictions"
   ]
  },
  {
   "cell_type": "code",
   "execution_count": 38,
   "metadata": {},
   "outputs": [],
   "source": [
    "result.to_csv(path_or_buf='result.csv',index=False)"
   ]
  },
  {
   "cell_type": "code",
   "execution_count": null,
   "metadata": {},
   "outputs": [],
   "source": []
  }
 ],
 "metadata": {
  "kernelspec": {
   "display_name": "Python 3",
   "language": "python",
   "name": "python3"
  },
  "language_info": {
   "codemirror_mode": {
    "name": "ipython",
    "version": 3
   },
   "file_extension": ".py",
   "mimetype": "text/x-python",
   "name": "python",
   "nbconvert_exporter": "python",
   "pygments_lexer": "ipython3",
   "version": "3.6.6"
  }
 },
 "nbformat": 4,
 "nbformat_minor": 2
}
